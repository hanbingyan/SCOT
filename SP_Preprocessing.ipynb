{
 "cells": [
  {
   "cell_type": "code",
   "execution_count": 1,
   "metadata": {},
   "outputs": [],
   "source": [
    "from pymle.models import CIR\n",
    "from pymle.sim.Simulator1D import Simulator1D\n",
    "from pymle.TransitionDensity import ExactDensity, KesslerDensity\n",
    "from pymle.fit.AnalyticalMLE import AnalyticalMLE\n",
    "import numpy as np\n",
    "import pickle"
   ]
  },
  {
   "cell_type": "code",
   "execution_count": 2,
   "metadata": {},
   "outputs": [],
   "source": [
    "import pandas as pd\n",
    "import matplotlib.pyplot as plt"
   ]
  },
  {
   "cell_type": "code",
   "execution_count": 3,
   "metadata": {},
   "outputs": [],
   "source": [
    "import torch"
   ]
  },
  {
   "cell_type": "code",
   "execution_count": 5,
   "metadata": {},
   "outputs": [],
   "source": [
    "SP = pd.read_csv('/Users/hby/Downloads/CNNpred/Processed_S&P.csv')"
   ]
  },
  {
   "cell_type": "code",
   "execution_count": 9,
   "metadata": {},
   "outputs": [
    {
     "data": {
      "text/plain": [
       "'2010-01-04'"
      ]
     },
     "execution_count": 9,
     "metadata": {},
     "output_type": "execute_result"
    }
   ],
   "source": [
    "SP['Date'][1]"
   ]
  },
  {
   "cell_type": "code",
   "execution_count": 6,
   "metadata": {},
   "outputs": [],
   "source": [
    "SP_Sub = SP[['Date', 'Close', 'Volume', 'mom1', 'mom3', 'ROC_15', 'EMA_20', 'Oil', 'Gold', 'DAAA', 'AAPL', \n",
    "             'JNJ', 'XOM', 'TE1', 'DE1', 'S&P-F', 'Dollar index-F']]"
   ]
  },
  {
   "cell_type": "code",
   "execution_count": 7,
   "metadata": {},
   "outputs": [],
   "source": [
    "SP_Sub = SP_Sub.iloc[19:, :].reset_index(drop=True)"
   ]
  },
  {
   "cell_type": "code",
   "execution_count": 8,
   "metadata": {},
   "outputs": [
    {
     "data": {
      "text/html": [
       "<div>\n",
       "<style scoped>\n",
       "    .dataframe tbody tr th:only-of-type {\n",
       "        vertical-align: middle;\n",
       "    }\n",
       "\n",
       "    .dataframe tbody tr th {\n",
       "        vertical-align: top;\n",
       "    }\n",
       "\n",
       "    .dataframe thead th {\n",
       "        text-align: right;\n",
       "    }\n",
       "</style>\n",
       "<table border=\"1\" class=\"dataframe\">\n",
       "  <thead>\n",
       "    <tr style=\"text-align: right;\">\n",
       "      <th></th>\n",
       "      <th>Date</th>\n",
       "      <th>Close</th>\n",
       "      <th>Volume</th>\n",
       "      <th>mom1</th>\n",
       "      <th>mom3</th>\n",
       "      <th>ROC_15</th>\n",
       "      <th>EMA_20</th>\n",
       "      <th>Oil</th>\n",
       "      <th>Gold</th>\n",
       "      <th>DAAA</th>\n",
       "      <th>AAPL</th>\n",
       "      <th>JNJ</th>\n",
       "      <th>XOM</th>\n",
       "      <th>TE1</th>\n",
       "      <th>DE1</th>\n",
       "      <th>S&amp;P-F</th>\n",
       "      <th>Dollar index-F</th>\n",
       "    </tr>\n",
       "  </thead>\n",
       "  <tbody>\n",
       "    <tr>\n",
       "      <th>0</th>\n",
       "      <td>2010-01-29</td>\n",
       "      <td>1073.869995</td>\n",
       "      <td>-0.007254</td>\n",
       "      <td>-0.011818</td>\n",
       "      <td>-0.004203</td>\n",
       "      <td>-5.940312</td>\n",
       "      <td>1123.157501</td>\n",
       "      <td>-0.010459</td>\n",
       "      <td>-0.008732</td>\n",
       "      <td>5.24</td>\n",
       "      <td>-0.036279</td>\n",
       "      <td>-0.014734</td>\n",
       "      <td>-0.008159</td>\n",
       "      <td>3.61</td>\n",
       "      <td>0.96</td>\n",
       "      <td>-0.81</td>\n",
       "      <td>0.70</td>\n",
       "    </tr>\n",
       "    <tr>\n",
       "      <th>1</th>\n",
       "      <td>2010-02-01</td>\n",
       "      <td>1089.189941</td>\n",
       "      <td>-0.246680</td>\n",
       "      <td>-0.009829</td>\n",
       "      <td>0.004880</td>\n",
       "      <td>-4.872578</td>\n",
       "      <td>1119.922495</td>\n",
       "      <td>0.021414</td>\n",
       "      <td>0.007418</td>\n",
       "      <td>5.30</td>\n",
       "      <td>0.013902</td>\n",
       "      <td>0.003659</td>\n",
       "      <td>0.027161</td>\n",
       "      <td>3.63</td>\n",
       "      <td>0.95</td>\n",
       "      <td>1.47</td>\n",
       "      <td>-0.29</td>\n",
       "    </tr>\n",
       "    <tr>\n",
       "      <th>2</th>\n",
       "      <td>2010-02-02</td>\n",
       "      <td>1103.319946</td>\n",
       "      <td>0.164785</td>\n",
       "      <td>0.014266</td>\n",
       "      <td>-0.011818</td>\n",
       "      <td>-3.806521</td>\n",
       "      <td>1118.341300</td>\n",
       "      <td>0.037629</td>\n",
       "      <td>0.022549</td>\n",
       "      <td>5.28</td>\n",
       "      <td>0.005803</td>\n",
       "      <td>0.014265</td>\n",
       "      <td>0.011786</td>\n",
       "      <td>3.63</td>\n",
       "      <td>0.95</td>\n",
       "      <td>1.01</td>\n",
       "      <td>-0.30</td>\n",
       "    </tr>\n",
       "    <tr>\n",
       "      <th>3</th>\n",
       "      <td>2010-02-03</td>\n",
       "      <td>1097.280029</td>\n",
       "      <td>-0.097713</td>\n",
       "      <td>0.012973</td>\n",
       "      <td>-0.009829</td>\n",
       "      <td>-3.427148</td>\n",
       "      <td>1116.335465</td>\n",
       "      <td>-0.003238</td>\n",
       "      <td>0.003825</td>\n",
       "      <td>5.36</td>\n",
       "      <td>0.017206</td>\n",
       "      <td>-0.005626</td>\n",
       "      <td>-0.005376</td>\n",
       "      <td>3.68</td>\n",
       "      <td>0.95</td>\n",
       "      <td>-0.07</td>\n",
       "      <td>0.47</td>\n",
       "    </tr>\n",
       "    <tr>\n",
       "      <th>4</th>\n",
       "      <td>2010-02-04</td>\n",
       "      <td>1063.109985</td>\n",
       "      <td>0.367345</td>\n",
       "      <td>-0.005474</td>\n",
       "      <td>0.014266</td>\n",
       "      <td>-7.207079</td>\n",
       "      <td>1111.266372</td>\n",
       "      <td>-0.049766</td>\n",
       "      <td>-0.028693</td>\n",
       "      <td>5.27</td>\n",
       "      <td>-0.036039</td>\n",
       "      <td>-0.015559</td>\n",
       "      <td>-0.028228</td>\n",
       "      <td>3.58</td>\n",
       "      <td>0.97</td>\n",
       "      <td>-3.17</td>\n",
       "      <td>0.67</td>\n",
       "    </tr>\n",
       "    <tr>\n",
       "      <th>...</th>\n",
       "      <td>...</td>\n",
       "      <td>...</td>\n",
       "      <td>...</td>\n",
       "      <td>...</td>\n",
       "      <td>...</td>\n",
       "      <td>...</td>\n",
       "      <td>...</td>\n",
       "      <td>...</td>\n",
       "      <td>...</td>\n",
       "      <td>...</td>\n",
       "      <td>...</td>\n",
       "      <td>...</td>\n",
       "      <td>...</td>\n",
       "      <td>...</td>\n",
       "      <td>...</td>\n",
       "      <td>...</td>\n",
       "      <td>...</td>\n",
       "    </tr>\n",
       "    <tr>\n",
       "      <th>1960</th>\n",
       "      <td>2017-11-09</td>\n",
       "      <td>2584.620117</td>\n",
       "      <td>-0.017375</td>\n",
       "      <td>0.001444</td>\n",
       "      <td>0.001271</td>\n",
       "      <td>0.878967</td>\n",
       "      <td>2571.803178</td>\n",
       "      <td>0.005984</td>\n",
       "      <td>0.000623</td>\n",
       "      <td>3.60</td>\n",
       "      <td>-0.002043</td>\n",
       "      <td>-0.006864</td>\n",
       "      <td>0.005990</td>\n",
       "      <td>1.28</td>\n",
       "      <td>0.66</td>\n",
       "      <td>-0.27</td>\n",
       "      <td>-0.44</td>\n",
       "    </tr>\n",
       "    <tr>\n",
       "      <th>1961</th>\n",
       "      <td>2017-11-10</td>\n",
       "      <td>2582.300049</td>\n",
       "      <td>-0.089962</td>\n",
       "      <td>-0.003762</td>\n",
       "      <td>-0.000189</td>\n",
       "      <td>0.275321</td>\n",
       "      <td>2572.802880</td>\n",
       "      <td>-0.007173</td>\n",
       "      <td>-0.000389</td>\n",
       "      <td>0.00</td>\n",
       "      <td>-0.006880</td>\n",
       "      <td>-0.005629</td>\n",
       "      <td>-0.012266</td>\n",
       "      <td>1.37</td>\n",
       "      <td>0.00</td>\n",
       "      <td>-0.17</td>\n",
       "      <td>-0.07</td>\n",
       "    </tr>\n",
       "    <tr>\n",
       "      <th>1962</th>\n",
       "      <td>2017-11-13</td>\n",
       "      <td>2584.840088</td>\n",
       "      <td>-0.024084</td>\n",
       "      <td>-0.000898</td>\n",
       "      <td>0.001444</td>\n",
       "      <td>0.774279</td>\n",
       "      <td>2573.949281</td>\n",
       "      <td>0.000352</td>\n",
       "      <td>-0.004944</td>\n",
       "      <td>3.69</td>\n",
       "      <td>-0.004008</td>\n",
       "      <td>0.001433</td>\n",
       "      <td>-0.000603</td>\n",
       "      <td>1.36</td>\n",
       "      <td>0.64</td>\n",
       "      <td>0.10</td>\n",
       "      <td>0.12</td>\n",
       "    </tr>\n",
       "    <tr>\n",
       "      <th>1963</th>\n",
       "      <td>2017-11-14</td>\n",
       "      <td>2578.870117</td>\n",
       "      <td>0.070184</td>\n",
       "      <td>0.000984</td>\n",
       "      <td>-0.003762</td>\n",
       "      <td>0.379126</td>\n",
       "      <td>2574.417932</td>\n",
       "      <td>-0.019376</td>\n",
       "      <td>-0.002621</td>\n",
       "      <td>3.66</td>\n",
       "      <td>-0.015118</td>\n",
       "      <td>-0.001932</td>\n",
       "      <td>-0.007842</td>\n",
       "      <td>1.34</td>\n",
       "      <td>0.65</td>\n",
       "      <td>-0.15</td>\n",
       "      <td>-0.71</td>\n",
       "    </tr>\n",
       "    <tr>\n",
       "      <th>1964</th>\n",
       "      <td>2017-11-15</td>\n",
       "      <td>2564.620117</td>\n",
       "      <td>-0.022755</td>\n",
       "      <td>-0.002310</td>\n",
       "      <td>-0.000898</td>\n",
       "      <td>0.292131</td>\n",
       "      <td>2573.484806</td>\n",
       "      <td>-0.007006</td>\n",
       "      <td>0.005963</td>\n",
       "      <td>3.60</td>\n",
       "      <td>-0.013190</td>\n",
       "      <td>-0.002796</td>\n",
       "      <td>-0.012524</td>\n",
       "      <td>1.27</td>\n",
       "      <td>0.68</td>\n",
       "      <td>-0.50</td>\n",
       "      <td>0.01</td>\n",
       "    </tr>\n",
       "  </tbody>\n",
       "</table>\n",
       "<p>1965 rows × 17 columns</p>\n",
       "</div>"
      ],
      "text/plain": [
       "            Date        Close    Volume      mom1      mom3    ROC_15  \\\n",
       "0     2010-01-29  1073.869995 -0.007254 -0.011818 -0.004203 -5.940312   \n",
       "1     2010-02-01  1089.189941 -0.246680 -0.009829  0.004880 -4.872578   \n",
       "2     2010-02-02  1103.319946  0.164785  0.014266 -0.011818 -3.806521   \n",
       "3     2010-02-03  1097.280029 -0.097713  0.012973 -0.009829 -3.427148   \n",
       "4     2010-02-04  1063.109985  0.367345 -0.005474  0.014266 -7.207079   \n",
       "...          ...          ...       ...       ...       ...       ...   \n",
       "1960  2017-11-09  2584.620117 -0.017375  0.001444  0.001271  0.878967   \n",
       "1961  2017-11-10  2582.300049 -0.089962 -0.003762 -0.000189  0.275321   \n",
       "1962  2017-11-13  2584.840088 -0.024084 -0.000898  0.001444  0.774279   \n",
       "1963  2017-11-14  2578.870117  0.070184  0.000984 -0.003762  0.379126   \n",
       "1964  2017-11-15  2564.620117 -0.022755 -0.002310 -0.000898  0.292131   \n",
       "\n",
       "           EMA_20       Oil      Gold  DAAA      AAPL       JNJ       XOM  \\\n",
       "0     1123.157501 -0.010459 -0.008732  5.24 -0.036279 -0.014734 -0.008159   \n",
       "1     1119.922495  0.021414  0.007418  5.30  0.013902  0.003659  0.027161   \n",
       "2     1118.341300  0.037629  0.022549  5.28  0.005803  0.014265  0.011786   \n",
       "3     1116.335465 -0.003238  0.003825  5.36  0.017206 -0.005626 -0.005376   \n",
       "4     1111.266372 -0.049766 -0.028693  5.27 -0.036039 -0.015559 -0.028228   \n",
       "...           ...       ...       ...   ...       ...       ...       ...   \n",
       "1960  2571.803178  0.005984  0.000623  3.60 -0.002043 -0.006864  0.005990   \n",
       "1961  2572.802880 -0.007173 -0.000389  0.00 -0.006880 -0.005629 -0.012266   \n",
       "1962  2573.949281  0.000352 -0.004944  3.69 -0.004008  0.001433 -0.000603   \n",
       "1963  2574.417932 -0.019376 -0.002621  3.66 -0.015118 -0.001932 -0.007842   \n",
       "1964  2573.484806 -0.007006  0.005963  3.60 -0.013190 -0.002796 -0.012524   \n",
       "\n",
       "       TE1   DE1  S&P-F  Dollar index-F  \n",
       "0     3.61  0.96  -0.81            0.70  \n",
       "1     3.63  0.95   1.47           -0.29  \n",
       "2     3.63  0.95   1.01           -0.30  \n",
       "3     3.68  0.95  -0.07            0.47  \n",
       "4     3.58  0.97  -3.17            0.67  \n",
       "...    ...   ...    ...             ...  \n",
       "1960  1.28  0.66  -0.27           -0.44  \n",
       "1961  1.37  0.00  -0.17           -0.07  \n",
       "1962  1.36  0.64   0.10            0.12  \n",
       "1963  1.34  0.65  -0.15           -0.71  \n",
       "1964  1.27  0.68  -0.50            0.01  \n",
       "\n",
       "[1965 rows x 17 columns]"
      ]
     },
     "execution_count": 8,
     "metadata": {},
     "output_type": "execute_result"
    }
   ],
   "source": [
    "SP_Sub"
   ]
  },
  {
   "cell_type": "code",
   "execution_count": null,
   "metadata": {},
   "outputs": [],
   "source": [
    "SP_Sub.to_csv('SP_Sub.csv', header=True, index=False)"
   ]
  },
  {
   "cell_type": "code",
   "execution_count": 7,
   "metadata": {},
   "outputs": [
    {
     "data": {
      "text/plain": [
       "Date              0\n",
       "Close             0\n",
       "Volume            0\n",
       "mom1              0\n",
       "mom3              0\n",
       "ROC_15            0\n",
       "EMA_20            0\n",
       "Oil               0\n",
       "Gold              0\n",
       "DAAA              0\n",
       "AAPL              0\n",
       "JNJ               0\n",
       "XOM               0\n",
       "TE1               0\n",
       "DE1               0\n",
       "S&P-F             0\n",
       "Dollar index-F    0\n",
       "dtype: int64"
      ]
     },
     "execution_count": 7,
     "metadata": {},
     "output_type": "execute_result"
    }
   ],
   "source": [
    "SP_Sub.isnull().sum()"
   ]
  },
  {
   "cell_type": "code",
   "execution_count": 8,
   "metadata": {},
   "outputs": [],
   "source": [
    "SP_Sub['Close'] /= 1000\n",
    "SP_Sub['Volume'] *= 10\n",
    "SP_Sub['mom1'] *= 10\n",
    "SP_Sub['mom3'] = SP_Sub['mom3']*10/3\n",
    "SP_Sub['ROC_15'] = SP_Sub['ROC_15']/15*10\n",
    "SP_Sub['EMA_20'] = SP_Sub['EMA_20']/1000/20\n",
    "SP_Sub['Oil'] *= 10\n",
    "SP_Sub['Gold'] *= 10\n",
    "SP_Sub['DAAA'] /= 10\n",
    "SP_Sub['AAPL'] *= 10\n",
    "SP_Sub['JNJ'] *= 10\n",
    "SP_Sub['XOM'] *= 10\n",
    "SP_Sub['TE1'] /= 10"
   ]
  },
  {
   "cell_type": "code",
   "execution_count": 14,
   "metadata": {},
   "outputs": [
    {
     "data": {
      "text/plain": [
       "(1965, 16)"
      ]
     },
     "execution_count": 14,
     "metadata": {},
     "output_type": "execute_result"
    }
   ],
   "source": [
    "SP_Sub.iloc[:, 1:].to_numpy().shape"
   ]
  },
  {
   "cell_type": "code",
   "execution_count": null,
   "metadata": {},
   "outputs": [],
   "source": []
  },
  {
   "cell_type": "code",
   "execution_count": null,
   "metadata": {},
   "outputs": [],
   "source": [
    "def m_a(a, n=10) :\n",
    "    ret = np.cumsum(a, dtype=float)\n",
    "    ret[n:] = ret[n:] - ret[:-n]\n",
    "    return ret[n - 1:] / n"
   ]
  },
  {
   "cell_type": "code",
   "execution_count": null,
   "metadata": {},
   "outputs": [],
   "source": [
    "with open('cot_sam_dety_reg.pickle', 'rb') as fp:\n",
    "    sam_dy = pickle.load(fp)\n",
    "\n",
    "with open('cot_var_dety_reg.pickle', 'rb') as fp:\n",
    "    var_dy = pickle.load(fp)\n",
    "    \n",
    "with open('cot_sam_randy_reg.pickle', 'rb') as fp:\n",
    "    sam_ry = pickle.load(fp)\n",
    "\n",
    "with open('cot_var_randy_reg.pickle', 'rb') as fp:\n",
    "    var_ry = pickle.load(fp)"
   ]
  },
  {
   "cell_type": "code",
   "execution_count": null,
   "metadata": {},
   "outputs": [],
   "source": [
    "with open('ot_sam_dety_reg.pickle', 'rb') as fp:\n",
    "    sam_otdy = pickle.load(fp)\n",
    "\n",
    "with open('ot_var_dety_reg.pickle', 'rb') as fp:\n",
    "    var_otdy = pickle.load(fp)\n",
    "    \n",
    "with open('ot_sam_randy_reg.pickle', 'rb') as fp:\n",
    "    sam_otry = pickle.load(fp)\n",
    "\n",
    "with open('ot_var_randy_reg.pickle', 'rb') as fp:\n",
    "    var_otry = pickle.load(fp)"
   ]
  },
  {
   "cell_type": "code",
   "execution_count": null,
   "metadata": {},
   "outputs": [],
   "source": [
    "with open('ot_cost_randy_reg.pickle', 'rb') as fp:\n",
    "    cost_otry = pickle.load(fp)"
   ]
  },
  {
   "cell_type": "code",
   "execution_count": null,
   "metadata": {},
   "outputs": [],
   "source": [
    "cost_otry[:].mean()"
   ]
  },
  {
   "cell_type": "code",
   "execution_count": null,
   "metadata": {},
   "outputs": [],
   "source": [
    "plt.figure(figsize=(8,6))\n",
    "plt.plot(m_a(np.array(cost_otry.detach()), n=50)[700:] - 1.0, label='Cost')\n",
    "plt.show()"
   ]
  },
  {
   "cell_type": "code",
   "execution_count": null,
   "metadata": {},
   "outputs": [],
   "source": [
    "plt.figure(figsize=(8,6))\n",
    "plt.plot(m_a(np.array(var_dy - sam_dy), n=20)[20:], label='Det y')\n",
    "plt.plot(m_a(np.array(var_ry - sam_ry), n=20)[20:], label='Rand y')\n",
    "plt.plot(m_a(np.array(var_otdy - sam_otdy), n=20)[20:], label='OT Det y')\n",
    "plt.plot(m_a(np.array(var_otry - sam_otry), n=20)[20:], label='OT Rand y')\n",
    "# plt.plot(m_a(np.array(dual_ot - sam_ot), n=10)[20:], label='OT')\n",
    "plt.legend(loc='best')\n",
    "plt.show()"
   ]
  },
  {
   "cell_type": "code",
   "execution_count": null,
   "metadata": {},
   "outputs": [],
   "source": [
    "var_dy[-50:].mean() - sam_dy[-50:].mean(), var_otdy[-50:].mean() - sam_otdy[-50:].mean()"
   ]
  },
  {
   "cell_type": "code",
   "execution_count": null,
   "metadata": {},
   "outputs": [],
   "source": [
    "var_ry[-50:].mean() - sam_ry[-50:].mean(), var_otry[-50:].mean() - sam_otry[-50:].mean()"
   ]
  },
  {
   "cell_type": "code",
   "execution_count": null,
   "metadata": {},
   "outputs": [],
   "source": []
  },
  {
   "cell_type": "code",
   "execution_count": null,
   "metadata": {},
   "outputs": [],
   "source": [
    "# ===========================\n",
    "# Set the true model (CIR) params, to simulate the process\n",
    "# ===========================\n",
    "model = CIR()  # Cox-Ingersol-Ross \n",
    "\n",
    "kappa = 3  # rate of mean reversion\n",
    "mu = 0.3  # long term level of process\n",
    "sigma = 0.2  # volatility\n",
    "\n",
    "model.params = np.array([kappa, mu, sigma])\n",
    "\n",
    "# ===========================\n",
    "# Simulate a sample path (we will fit to this path)\n",
    "# ===========================\n",
    "S0 = 0.4  # initial value of process\n",
    "T = 1  # num years of the sample\n",
    "freq = 100  # observations per year\n",
    "dt = 1. / freq\n",
    "seed = 123  # random seed: set to None to get new results each time\n",
    "\n",
    "simulator = Simulator1D(S0=S0, M=T * freq, dt=dt, model=model).set_seed(seed=seed)\n",
    "sample = simulator.sim_path()\n",
    "\n",
    "# ===========================\n",
    "# Fit maximum Likelihood estimators\n",
    "# ===========================\n",
    "# Set the parameter bounds for fitting  (kappa, mu, sigma)\n",
    "param_bounds = [(0, 10), (0, 4), (0.01, 1)]\n",
    "\n",
    "# Choose some initial guess for params fit\n",
    "guess = np.array([1, 0.1, 0.4])\n",
    "\n",
    "# Fit using Kessler MLE\n",
    "kessler_est = AnalyticalMLE(sample, param_bounds, dt, density=KesslerDensity(model)).estimate_params(guess)\n",
    "\n",
    "print(f'\\nKessler MLE: {kessler_est} \\n')\n",
    "\n",
    "# Fit using Exact MLE\n",
    "exact_est = AnalyticalMLE(sample, param_bounds, dt, density=ExactDensity(model)).estimate_params(guess)\n",
    "\n",
    "print(f'\\nExact MLE: {exact_est}')"
   ]
  },
  {
   "cell_type": "code",
   "execution_count": null,
   "metadata": {},
   "outputs": [],
   "source": [
    "sample.shape"
   ]
  }
 ],
 "metadata": {
  "kernelspec": {
   "display_name": "Python 3",
   "language": "python",
   "name": "python3"
  },
  "language_info": {
   "codemirror_mode": {
    "name": "ipython",
    "version": 3
   },
   "file_extension": ".py",
   "mimetype": "text/x-python",
   "name": "python",
   "nbconvert_exporter": "python",
   "pygments_lexer": "ipython3",
   "version": "3.7.2"
  }
 },
 "nbformat": 4,
 "nbformat_minor": 2
}
